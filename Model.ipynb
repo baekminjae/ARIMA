{
 "cells": [
  {
   "cell_type": "markdown",
   "id": "d30ce0ea",
   "metadata": {},
   "source": [
    "### Library"
   ]
  },
  {
   "cell_type": "code",
   "execution_count": 1,
   "id": "27f6c15f",
   "metadata": {},
   "outputs": [],
   "source": [
    "import pandas as pd\n",
    "import numpy as np\n",
    "import matplotlib.pyplot as plt\n",
    "from pathlib import Path\n",
    "import itertools\n",
    "from tqdm import tqdm\n",
    "import FinanceDataReader as fdr\n",
    "from sklearn.preprocessing import MinMaxScaler\n",
    "from statsmodels.tsa.arima.model import ARIMA\n",
    "\n",
    "import warnings\n",
    "warnings.filterwarnings('ignore')\n",
    "warnings.simplefilter('ignore')"
   ]
  },
  {
   "cell_type": "markdown",
   "id": "1f26102f",
   "metadata": {},
   "source": [
    "### Data Path"
   ]
  },
  {
   "cell_type": "code",
   "execution_count": 2,
   "id": "4ab2f1b5",
   "metadata": {},
   "outputs": [],
   "source": [
    "data_dir = Path('../Stock_Price_Predictor/open/')\n",
    "\n",
    "stock_list_csv = data_dir / 'stock_list.csv'\n",
    "sub_csv = data_dir / 'sample_submission.csv'"
   ]
  },
  {
   "cell_type": "code",
   "execution_count": 3,
   "id": "71531b6f",
   "metadata": {},
   "outputs": [],
   "source": [
    "stock_list = pd.read_csv(stock_list_csv)\n",
    "sub = pd.read_csv(sub_csv)"
   ]
  },
  {
   "cell_type": "code",
   "execution_count": 4,
   "id": "ca246230",
   "metadata": {
    "scrolled": true
   },
   "outputs": [
    {
     "data": {
      "text/plain": [
       "0      005930\n",
       "1      000660\n",
       "2      035420\n",
       "3      035720\n",
       "4      207940\n",
       "        ...  \n",
       "365    220630\n",
       "366    064260\n",
       "367    287410\n",
       "368    110790\n",
       "369    099320\n",
       "Name: 종목코드, Length: 370, dtype: object"
      ]
     },
     "execution_count": 4,
     "metadata": {},
     "output_type": "execute_result"
    }
   ],
   "source": [
    "stock_list = stock_list['종목코드'].apply(lambda x : str(x).zfill(6))\n",
    "stock_list"
   ]
  },
  {
   "cell_type": "markdown",
   "id": "42878ab3",
   "metadata": {},
   "source": [
    "### Stock Data Reader"
   ]
  },
  {
   "cell_type": "code",
   "execution_count": 5,
   "id": "8204a1d8",
   "metadata": {},
   "outputs": [],
   "source": [
    "START = '20111031'\n",
    "END = '20211031'\n",
    "\n",
    "def stock_reader(code):\n",
    "    stock = fdr.DataReader(code, start = START, end = END)\n",
    "    return stock['Close']"
   ]
  },
  {
   "cell_type": "markdown",
   "id": "69cdf83a",
   "metadata": {},
   "source": [
    "### ARIMA Model"
   ]
  },
  {
   "cell_type": "code",
   "execution_count": 6,
   "id": "86a7e4d1",
   "metadata": {},
   "outputs": [],
   "source": [
    "p = [1,2,4,6,8]\n",
    "d = q = range(0,3)\n",
    "pdq = list(itertools.product(p, d, q))\n",
    "\n",
    "def arima_model(df):\n",
    "    aic=[]\n",
    "    params=[]\n",
    "        \n",
    "    for i in pdq:\n",
    "        try:\n",
    "            model = ARIMA(df.values, \n",
    "                    order=i, \n",
    "                    enforce_invertibility=False,\n",
    "                    enforce_stationarity=False)\n",
    "            model_fit = model.fit()\n",
    "            aic.append(round(model_fit.aic,2))\n",
    "            params.append(i)\n",
    "            \n",
    "        except: continue\n",
    "    \n",
    "    best_aic = [(pdq[i],j) for i,j in enumerate(aic) if j == min(aic)]\n",
    "    \n",
    "    model = ARIMA(df.values, order=best_aic[0][0])\n",
    "    model_fit = model.fit()\n",
    "    forecast = model_fit.forecast(steps=5)\n",
    "    \n",
    "    return forecast"
   ]
  },
  {
   "cell_type": "markdown",
   "id": "c2a6ee57",
   "metadata": {},
   "source": [
    "### Main"
   ]
  },
  {
   "cell_type": "code",
   "execution_count": 7,
   "id": "f5c6ecb4",
   "metadata": {
    "scrolled": false
   },
   "outputs": [],
   "source": [
    "# for i,st in tqdm(enumerate(stock_list)):\n",
    "#     print(\"===========Model {0}===========\".format(i), '>>>', st)\n",
    "#     stock = stock_reader(st)\n",
    "    \n",
    "#     forcast = arima_model(stock)\n",
    "#     forcast = np.ceil(np.array(forcast))\n",
    "    \n",
    "#     sub.loc[:4,st] = forcast"
   ]
  },
  {
   "cell_type": "code",
   "execution_count": null,
   "id": "d3e3bb4b",
   "metadata": {},
   "outputs": [],
   "source": []
  }
 ],
 "metadata": {
  "kernelspec": {
   "display_name": "Python 3 (ipykernel)",
   "language": "python",
   "name": "python3"
  },
  "language_info": {
   "codemirror_mode": {
    "name": "ipython",
    "version": 3
   },
   "file_extension": ".py",
   "mimetype": "text/x-python",
   "name": "python",
   "nbconvert_exporter": "python",
   "pygments_lexer": "ipython3",
   "version": "3.7.11"
  }
 },
 "nbformat": 4,
 "nbformat_minor": 5
}
